{
 "cells": [
  {
   "cell_type": "markdown",
   "metadata": {},
   "source": [
    "## 2. 面向过程的编程风格\n",
    "作者: tushushu  \n",
    "项目地址: https://github.com/tushushu/EssentialCython   \n",
    "参考书籍: 《Essential C++ 中文版》  \n",
    "编程环境: MacOS + Jupyter Notebook + Python 3.6"
   ]
  },
  {
   "cell_type": "code",
   "execution_count": 1,
   "metadata": {},
   "outputs": [],
   "source": [
    "%load_ext Cython"
   ]
  },
  {
   "cell_type": "markdown",
   "metadata": {},
   "source": [
    "### 2.1 如何编写函数\n",
    "每一个函数必须定义以下四个部分：\n",
    "1. 返回类型\n",
    "2. 函数名\n",
    "3. 参数列表\n",
    "4. 函数体\n",
    "  \n",
    "例：计算斐波那契数列某个位置pos的元素值。  \n",
    "解：我们编写一个名为fibon_elem的函数，求出对应位置pos的元素值，并直接修改变量elem。其中pos介于0与1024之间，如果传入的pos值合法则返回True，否则返回False。"
   ]
  },
  {
   "cell_type": "code",
   "execution_count": 2,
   "metadata": {},
   "outputs": [
    {
     "name": "stdout",
     "output_type": "stream",
     "text": [
      "计算成功, 第1个位置的元素值为1!\n",
      "计算成功, 第2个位置的元素值为1!\n",
      "计算成功, 第3个位置的元素值为2!\n",
      "计算成功, 第4个位置的元素值为3!\n",
      "计算成功, 第5个位置的元素值为5!\n",
      "计算成功, 第6个位置的元素值为8!\n",
      "计算失败, <pos>参数为1025, 超过了合法范围!\n"
     ]
    }
   ],
   "source": [
    "%%cython --cplus --compile-args=-stdlib=libc++ --link-args=-stdlib=libc++\n",
    "from libcpp cimport bool\n",
    "\n",
    "\n",
    "cdef bool fibon_elem(int pos, int &elem):\n",
    "    # Cython不允许直接对引用进行赋值，需要用指针进行中介\n",
    "    cdef int *_elem = &elem\n",
    "    # 检查位置值是否合理\n",
    "    if pos <= 0 or pos > 1024:\n",
    "        return False\n",
    "    # 位置值为1和2时，elem的值为1\n",
    "    _elem[0] = 1\n",
    "    cdef:\n",
    "        int n_2 = 1\n",
    "        int n_1 = 1\n",
    "        int ix\n",
    "    for ix in range(3, pos + 1):\n",
    "        _elem[0] = n_2 + n_1\n",
    "        n_2 = n_1\n",
    "        n_1 = _elem[0]\n",
    "    return True\n",
    "\n",
    "\n",
    "# 测试\n",
    "cdef:\n",
    "    int pos\n",
    "    int elem = 0\n",
    "for pos in [1, 2, 3, 4, 5, 6, 1025]:\n",
    "    sucess = fibon_elem(pos, elem)\n",
    "    if sucess:\n",
    "        msg = f\"计算成功, 第{pos}个位置的元素值为{elem}!\"\n",
    "    else:\n",
    "        msg = f\"计算失败, <pos>参数为{pos}, 超过了合法范围!\"\n",
    "    print(msg)"
   ]
  },
  {
   "cell_type": "markdown",
   "metadata": {},
   "source": [
    "注意：上面的代码中，_elem[0]表示对指针进行解引用，而不能像C/C++一样直接用星号来操作。如下代码给出更多的示例："
   ]
  },
  {
   "cell_type": "code",
   "execution_count": 3,
   "metadata": {},
   "outputs": [
    {
     "name": "stdout",
     "output_type": "stream",
     "text": [
      "1. 指针p指向的变量的值为3!\n",
      "2. 指针p指向的变量的值为3!\n",
      "3. 指针p指向的变量的值为4!\n"
     ]
    }
   ],
   "source": [
    "%%cython --cplus --compile-args=-stdlib=libc++ --link-args=-stdlib=libc++\n",
    "from cython.operator cimport dereference as deref\n",
    "\n",
    "cdef int i = 3\n",
    "cdef int *p = &i\n",
    "\n",
    "# 使用dereference操作符\n",
    "print(f\"1. 指针p指向的变量的值为{deref(p)}!\")\n",
    "\n",
    "# 使用下标索引的方式\n",
    "print(f\"2. 指针p指向的变量的值为{p[0]}!\")\n",
    "\n",
    "# 给指针指向的变量赋值\n",
    "# deref(p) = 4 # 代码会报错, \"Cannot assign to or delete this\"\n",
    "p[0] = 4\n",
    "print(f\"3. 指针p指向的变量的值为{p[0]}!\")"
   ]
  },
  {
   "cell_type": "markdown",
   "metadata": {},
   "source": [
    "### 2.2 调用函数\n",
    "本节将实现一个可对Vector内的整数值加以排序的函数。通过这个例子，我们可以审视两种参数传递方式：传址及传值。  \n",
    "    首先编写一个冒泡排序算法，注意定义一个vector要用'vector[int]'而不是'vector\\<int\\>'，这点跟C++略有区别。"
   ]
  },
  {
   "cell_type": "code",
   "execution_count": 4,
   "metadata": {},
   "outputs": [
    {
     "name": "stdout",
     "output_type": "stream",
     "text": [
      "排序前的vector: [8, 34, 3, 13, 1, 21, 5, 2]\n",
      "排序后的vector: [8, 34, 3, 13, 1, 21, 5, 2]\n"
     ]
    }
   ],
   "source": [
    "%%cython --cplus --compile-args=-stdlib=libc++ --link-args=-stdlib=libc++\n",
    "from libcpp.vector cimport vector\n",
    "\n",
    "\n",
    "cdef void swap(int val1, int val2):\n",
    "    cdef int temp = val1\n",
    "    val1 = val2\n",
    "    val2 = temp\n",
    "\n",
    "    \n",
    "cdef void bubble_sort(vector[int] vec):\n",
    "    cdef:\n",
    "        int ix = 0\n",
    "        int jx = 0\n",
    "    for ix in range(vec.size()):\n",
    "        for jx in range(ix + 1, vec.size()):\n",
    "            if vec[ix] > vec[jx]:\n",
    "                swap(vec[ix], vec[jx])\n",
    "\n",
    "# 测试\n",
    "cdef vector[int] vec = [8, 34, 3, 13, 1, 21, 5, 2]\n",
    "print(f\"排序前的vector: {vec}\")\n",
    "bubble_sort(vec)\n",
    "print(f\"排序后的vector: {vec}\")"
   ]
  },
  {
   "cell_type": "markdown",
   "metadata": {},
   "source": [
    "上面的运行结果显然不是我们所期待的，首先我们看看swap函数是不是有bug。"
   ]
  },
  {
   "cell_type": "code",
   "execution_count": 5,
   "metadata": {},
   "outputs": [
    {
     "name": "stdout",
     "output_type": "stream",
     "text": [
      "交换之前val1=1, val2=2!\n",
      "交换之前val1=1, val2=2!\n"
     ]
    }
   ],
   "source": [
    "%%cython --cplus --compile-args=-stdlib=libc++ --link-args=-stdlib=libc++\n",
    "\n",
    "cdef void swap(int val1, int val2):\n",
    "    cdef int temp = val1\n",
    "    val1 = val2\n",
    "    val2 = temp\n",
    "\n",
    "cdef:\n",
    "    int val1 = 1\n",
    "    int val2 = 2\n",
    "print(f\"交换之前val1={val1}, val2={val2}!\")\n",
    "swap(val1, val2)\n",
    "print(f\"交换之前val1={val1}, val2={val2}!\")"
   ]
  },
  {
   "cell_type": "markdown",
   "metadata": {},
   "source": [
    "试着交换val1和val2的值失败。我们再打印一下函数体内val1和val2的值。"
   ]
  },
  {
   "cell_type": "code",
   "execution_count": 6,
   "metadata": {},
   "outputs": [
    {
     "name": "stdout",
     "output_type": "stream",
     "text": [
      "交换之前val1=1, val2=2!\n",
      "交换之前val1=2, val2=1!\n"
     ]
    }
   ],
   "source": [
    "%%cython --cplus --compile-args=-stdlib=libc++ --link-args=-stdlib=libc++\n",
    "\n",
    "cdef void swap(int val1, int val2):\n",
    "    print(f\"交换之前val1={val1}, val2={val2}!\")\n",
    "    cdef int temp = val1\n",
    "    val1 = val2\n",
    "    val2 = temp\n",
    "    print(f\"交换之前val1={val1}, val2={val2}!\")\n",
    "\n",
    "cdef:\n",
    "    int val1 = 1\n",
    "    int val2 = 2\n",
    "\n",
    "swap(val1, val2)"
   ]
  },
  {
   "cell_type": "markdown",
   "metadata": {},
   "source": [
    "发现在函数体内val1和val2交换成功了。所以产生bug的原因在于传给swap()的对象被复制了一份，原对象和副本之间没有任何关联。当我们调用一个函数时，会在内存中建立起一块特殊区域，称为“程序栈”。这块特殊区域提供了每个函数的参数的储存空间。它也提供了函数所定义的每个对象的内存空间。我们将这些对象称为local object。一旦函数完成，这块内存就会被释放掉，或者说从程序栈中pop出来。  \n",
    "为了让程序正确工作，我们必须采用传址的方式而不是传值的方式来定义函数。"
   ]
  },
  {
   "cell_type": "code",
   "execution_count": 7,
   "metadata": {},
   "outputs": [
    {
     "name": "stdout",
     "output_type": "stream",
     "text": [
      "排序前的vector: [8, 34, 3, 13, 1, 21, 5, 2]\n",
      "排序后的vector: [1, 2, 3, 5, 8, 13, 21, 34]\n"
     ]
    }
   ],
   "source": [
    "%%cython --cplus --compile-args=-stdlib=libc++ --link-args=-stdlib=libc++\n",
    "from libcpp.vector cimport vector\n",
    "\n",
    "\n",
    "cdef void swap(int &val1, int &val2):\n",
    "    # Cython不允许直接对引用进行赋值，需要用指针进行中介\n",
    "    cdef:\n",
    "        int *p1 = &val1\n",
    "        int *p2 = &val2\n",
    "        int temp = p1[0]\n",
    "    p1[0] = p2[0]\n",
    "    p2[0] = temp\n",
    "\n",
    "\n",
    "cdef void bubble_sort(vector[int] &vec):\n",
    "    cdef:\n",
    "        int ix = 0\n",
    "        int jx = 0\n",
    "    for ix in range(vec.size()):\n",
    "        for jx in range(ix + 1, vec.size()):\n",
    "            if vec[ix] > vec[jx]:\n",
    "                swap(vec[ix], vec[jx])\n",
    "\n",
    "# 测试\n",
    "cdef vector[int] vec = [8, 34, 3, 13, 1, 21, 5, 2]\n",
    "print(f\"排序前的vector: {vec}\")\n",
    "bubble_sort(vec)\n",
    "print(f\"排序后的vector: {vec}\")"
   ]
  },
  {
   "cell_type": "markdown",
   "metadata": {},
   "source": [
    "### 2.3 提供默认的参数值\n",
    "C++允许我们为全部或部分参数设定默认值。在我们的冒泡排序程序中，可以设置升序排列或者降序排列，如果用户不指定asc参数，默认按照升序排列。"
   ]
  },
  {
   "cell_type": "code",
   "execution_count": 8,
   "metadata": {},
   "outputs": [
    {
     "name": "stdout",
     "output_type": "stream",
     "text": [
      "升序排列...\n",
      "排序前的vector: [8, 34, 3, 13, 1, 21, 5, 2]\n",
      "排序后的vector: [1, 2, 3, 5, 8, 13, 21, 34]\n",
      "\n",
      "降序排列...\n",
      "排序前的vector: [8, 34, 3, 13, 1, 21, 5, 2]\n",
      "排序后的vector: [34, 21, 13, 8, 5, 3, 2, 1]\n"
     ]
    }
   ],
   "source": [
    "%%cython --cplus --compile-args=-stdlib=libc++ --link-args=-stdlib=libc++\n",
    "from libcpp cimport bool\n",
    "from libcpp.vector cimport vector\n",
    "\n",
    "\n",
    "cdef void swap(int &val1, int &val2):\n",
    "    cdef:\n",
    "        int *p1 = &val1\n",
    "        int *p2 = &val2\n",
    "        int temp = p1[0]\n",
    "    p1[0] = p2[0]\n",
    "    p2[0] = temp\n",
    "\n",
    "\n",
    "cdef void bubble_sort(vector[int] &vec, bool asc = True):\n",
    "    cdef:\n",
    "        int ix = 0\n",
    "        int jx = 0\n",
    "    for ix in range(vec.size()):\n",
    "        for jx in range(ix + 1, vec.size()):\n",
    "            if asc:\n",
    "                if vec[ix] > vec[jx]:\n",
    "                    swap(vec[ix], vec[jx])\n",
    "            else:\n",
    "                if vec[ix] < vec[jx]:\n",
    "                    swap(vec[ix], vec[jx])\n",
    "\n",
    "# 测试 1\n",
    "print(\"升序排列...\")\n",
    "cdef vector[int] vec = [8, 34, 3, 13, 1, 21, 5, 2]\n",
    "print(f\"排序前的vector: {vec}\")\n",
    "bubble_sort(vec)\n",
    "print(f\"排序后的vector: {vec}\")\n",
    "print()\n",
    "\n",
    "# 测试 2\n",
    "print(\"降序排列...\")\n",
    "vec = [8, 34, 3, 13, 1, 21, 5, 2]\n",
    "print(f\"排序前的vector: {vec}\")\n",
    "bubble_sort(vec, False)\n",
    "print(f\"排序后的vector: {vec}\")"
   ]
  },
  {
   "cell_type": "markdown",
   "metadata": {},
   "source": [
    "### 2.4 使用局部静态对象\n",
    "2.1节的fibon_elem()函数每次被调用时，便计算出斐波那契数列从1到pos的所有值(其中pos是由用户指定)，然后返回。这里花费了一些不必要的工夫。请看以下对fibon_elem()的三次调用：\n",
    "1. fibon_elem(24)\n",
    "2. fibon_elem(8)\n",
    "3. fibon_elem(18)\n",
    "\n",
    "其实第一次调用便已经计算出第二次、第三次调用所需要计算的值。我们可以考虑把计算结果缓存起来，如果下一次函数调用的时候结果已经存在于缓存中，则不需要重新计算。  \n",
    "如果在file scope定义缓存对象会过于冒险，打乱不同函数间的独立性。另外一个解法就是局部静态对象，与局部对象不同，它在每次函数调用的时候不会被重新创建，所以适合当作缓存。  "
   ]
  },
  {
   "cell_type": "markdown",
   "metadata": {},
   "source": [
    "因为Cython还不支持static变量，所以我们先创建chapter_2_extern.cpp和chapter_2_extern.h文件，用C++编写这个函数。注意fibon_elem要放在_fibon_elem之后定义，否则会报错。\n",
    "```C++\n",
    "#include \"chapter_2_extern.h\"\n",
    "\n",
    "static void _fibon_elem(int pos, int &elem, vector<int> &cache)\n",
    "{\n",
    "    elem = 1;\n",
    "    if (pos == 1 || pos == 2)\n",
    "    {\n",
    "        cache.push_back(elem);\n",
    "        cache.push_back(elem);\n",
    "        cache.push_back(elem);\n",
    "    }\n",
    "    int i = cache.size() - 1;\n",
    "    int n_1 = cache[i - 1];\n",
    "    int n_2 = cache[i];\n",
    "    for (; i < pos; ++i)\n",
    "    {\n",
    "        elem = n_1 + n_2;\n",
    "        n_1 = n_2;\n",
    "        n_2 = elem;\n",
    "        cache.push_back(elem);\n",
    "    }\n",
    "}\n",
    "\n",
    "static int fibon_elem(int pos, int &elem)\n",
    "{\n",
    "    static vector<int> cache;\n",
    "    if (pos <= 0 || pos > 1024)\n",
    "    {\n",
    "        elem = 0;\n",
    "        return 0;\n",
    "    }\n",
    "    if (pos >= cache.size())\n",
    "    {\n",
    "        _fibon_elem(pos, elem, cache);\n",
    "        return 1;\n",
    "    }\n",
    "    elem = cache[pos];\n",
    "    return 2;\n",
    "}\n",
    "\n",
    "```\n"
   ]
  },
  {
   "cell_type": "markdown",
   "metadata": {},
   "source": [
    "创建chapter_2.pxd文件(相当于C/C++头文件)，编写Cython代码来加载这个函数。\n",
    "```cython\n",
    "from libcpp cimport bool\n",
    "from libcpp.vector cimport vector\n",
    "\n",
    "\n",
    "cdef extern from \"chapter_2_extern.h\":\n",
    "    void _fibon_elem(int pos, int &elem, vector[int] &cache)\n",
    "    int fibon_elem(int pos, int &elem)\n",
    "\n",
    "```\n",
    "然后通过执行`python setup.py build_ext --inplace`命令，将代码编译为.so文件。  \n",
    "编写fibon_elem_py函数，测试代码和结果如下："
   ]
  },
  {
   "cell_type": "code",
   "execution_count": 9,
   "metadata": {},
   "outputs": [
    {
     "name": "stdout",
     "output_type": "stream",
     "text": [
      "计算成功, 第1个位置的元素值为1!\n",
      "调用缓存, 第2个位置的元素值为1!\n",
      "计算成功, 第3个位置的元素值为2!\n",
      "计算成功, 第4个位置的元素值为3!\n",
      "计算成功, 第8个位置的元素值为21!\n",
      "调用缓存, 第5个位置的元素值为5!\n",
      "调用缓存, 第6个位置的元素值为8!\n",
      "计算失败, <pos>参数为1025, 超过了合法范围!\n"
     ]
    }
   ],
   "source": [
    "%%cython --cplus --compile-args=-stdlib=libc++ --link-args=-stdlib=libc++\n",
    "from chapter_2 cimport fibon_elem\n",
    "\n",
    "def fibon_elem_py(pos):\n",
    "    cdef int _elem = 0\n",
    "    sucess = fibon_elem(pos, _elem)\n",
    "    return _elem, sucess\n",
    "\n",
    "for pos in [1, 2, 3, 4, 8, 5, 6, 1025]:\n",
    "    elem, sucess = fibon_elem_py(pos)\n",
    "    if sucess == 1:\n",
    "        msg = f\"计算成功, 第{pos}个位置的元素值为{elem}!\"\n",
    "    elif sucess == 2:\n",
    "        msg = f\"调用缓存, 第{pos}个位置的元素值为{elem}!\"\n",
    "    else:\n",
    "        msg = f\"计算失败, <pos>参数为{pos}, 超过了合法范围!\"\n",
    "    print(msg)"
   ]
  },
  {
   "cell_type": "markdown",
   "metadata": {},
   "source": [
    "### 2.5 声明inline函数\n",
    "\n",
    "使用函数能够避免将相同代码重写多次的麻烦，还能减少可执行程序的体积，但也会带来程序运行时间上的开销。\n",
    "\n",
    "函数调用在执行时，首先要在栈中为形参和局部变量分配存储空间，然后还要将实参的值复制给形参，接下来还要将函数的返回地址（该地址指明了函数执行结束后，程序应该回到哪里继续执行）放入栈中，最后才跳转到函数内部执行。这个过程是要耗费时间的。\n",
    "\n",
    "另外，函数执行 return 语句返回时，需要从栈中回收形参和局部变量占用的存储空间，然后从栈中取出返回地址，再跳转到该地址继续执行，这个过程也要耗费时间。\n",
    "\n",
    "总之，使用函数调用语句和直接把函数中的代码重新抄写一遍相比，节省了人力，但是带来了程序运行时间上的额外开销。\n",
    "\n",
    "一般情况下，这个开销可以忽略不计。但是，如果一个函数内部没有几条语句，执行时间本来就非常短，那么这个函数调用产生的额外开销和函数本身执行的时间相比，就显得不能忽略了。假如这样的函数在一个循环中被上千万次地执行，函数调用导致的时间开销可能就会使得程序运行明显变慢。\n",
    "\n",
    "作为特别注重程序执行效率，适合编写底层系统软件的高级程序设计语言，C++ 用 inline 关键字较好地解决了函数调用开销的问题。\n",
    "\n",
    "在 C++ 中，可以在定义函数时，在返回值类型前面加上 inline 关键字。如：\n",
    "```C++\n",
    "inline int Max (int a, int b)\n",
    "{\n",
    "    if(a > b)\n",
    "        return a;\n",
    "    return b;\n",
    "}\n",
    "```\n",
    "增加了 inline 关键字的函数称为“内联函数”。内联函数和普通函数的区别在于：当编译器处理调用内联函数的语句时，不会将该语句编译成函数调用的指令，而是直接将整个函数体的代码插人调用语句处，就像整个函数体在调用处被重写了一遍一样。\n",
    "\n",
    "有了内联函数，就能像调用一个函数那样方便地重复使用一段代码，而不需要付出执行函数调用的额外开销。很显然，使用内联函数会使最终可执行程序的体积增加。以时间换取空间，或增加空间消耗来节省时间，这是计算机学科中常用的方法。\n",
    "\n",
    "内联函数中的代码应该只是很简单、执行很快的几条语句。如果一个函数较为复杂，它执行的时间可能上万倍于函数调用的额外开销，那么将其作为内联函数处理的结果是付出让代码体积增加不少的代价，却只使速度提高了万分之一，这显然是不划算的。\n",
    "\n",
    "有时函数看上去很简单，例如只有一个包含一两条语句的循环，但该循环的执行次数可能很多，要消耗大量时间，那么这种情况也不适合将其实现为内联函数。\n",
    "\n",
    "另外，需要注意的是，调用内联函数的语句前必须已经出现内联函数的定义（即整个函数体），而不能只出现内联函数的声明。\n",
    "\n",
    "参考链接: [C++内联函数（C++ inline）详解](http://c.biancheng.net/view/199.html)  \n",
    "\n",
    "接下来我们测试内联函数对性能的提升，还是以斐波那契数列为例。经测试，使用内联函数后性能有所提升。"
   ]
  },
  {
   "cell_type": "code",
   "execution_count": 10,
   "metadata": {},
   "outputs": [
    {
     "name": "stdout",
     "output_type": "stream",
     "text": [
      "不使用内联函数运行时间为0.7078秒!\n",
      "运算结果是: [0, 1, 1, 2, 3, 5, 8, 13, 21, 34, 55, 89, 144, 233, 377, 610, 987, 1597, 2584, 4181, 6765, 10946, 17711, 28657, 46368, 75025, 121393, 196418, 317811, 514229, 832040, 1346269, 2178309, 3524578, 5702887, 9227465, 14930352, 24157817, 39088169, 63245986]\n",
      "\n",
      "内联函数运行时间为0.68129秒!\n",
      "运算结果是: [0, 1, 1, 2, 3, 5, 8, 13, 21, 34, 55, 89, 144, 233, 377, 610, 987, 1597, 2584, 4181, 6765, 10946, 17711, 28657, 46368, 75025, 121393, 196418, 317811, 514229, 832040, 1346269, 2178309, 3524578, 5702887, 9227465, 14930352, 24157817, 39088169, 63245986]\n"
     ]
    }
   ],
   "source": [
    "%%cython --cplus --compile-args=-stdlib=libc++ --link-args=-stdlib=libc++\n",
    "from libcpp cimport bool\n",
    "from libcpp.vector cimport vector\n",
    "from time import perf_counter\n",
    "\n",
    "\n",
    "cdef long long fib_elem(long long n):\n",
    "    if n < 2:\n",
    "        return n\n",
    "    return fib_elem(n - 1) + fib_elem(n - 2)\n",
    "\n",
    "\n",
    "cdef inline long long inline_fib(long long n):\n",
    "    if n < 2:\n",
    "        return n;\n",
    "    return inline_fib(n - 1) + inline_fib(n - 2)\n",
    "\n",
    "\n",
    "cdef vector[long long] fib_seq(long long n):\n",
    "    cdef long long i = 0\n",
    "    cdef vector[long long] v\n",
    "    while i < n:\n",
    "        v.push_back(fib_elem(i))\n",
    "        i += 1\n",
    "    return v\n",
    "\n",
    "\n",
    "cdef vector[long long] fast_fib_seq(long long n):\n",
    "    cdef long long i = 0\n",
    "    cdef vector[long long] v\n",
    "    while i < n:\n",
    "        v.push_back(inline_fib(i))\n",
    "        i += 1\n",
    "    return v\n",
    "\n",
    "\n",
    "# 测试\n",
    "cdef long long n = 40\n",
    "# 不使用内联函数\n",
    "start = perf_counter()\n",
    "x = fib_seq(n)\n",
    "run_time = round(perf_counter() - start, 5)\n",
    "print(f\"不使用内联函数运行时间为{run_time}秒!\")\n",
    "print(\"运算结果是:\", x)\n",
    "print()\n",
    "# 使用内联函数\n",
    "start = perf_counter()\n",
    "y = fast_fib_seq(n)\n",
    "inline_run_time = round(perf_counter() - start, 5)\n",
    "print(f\"内联函数运行时间为{inline_run_time}秒!\")\n",
    "print(\"运算结果是:\", y)"
   ]
  },
  {
   "cell_type": "markdown",
   "metadata": {},
   "source": [
    "### 2.6 提供重载函数\n",
    "现在我们来提供一个通用的vector_sum函数，我们是否可以传入不同类型甚至不同数量的参数给vector_sum呢？可以。如何办到？这必须通过所谓的函数重载机制。\n",
    "```C++\n",
    "int vector_sum(vector<int> &ivec);\n",
    "float vector_sum(vector<float> &fvec);\n",
    "```\n",
    "既然名称相同，编译器如何知道应该调用哪一个函数呢？它会将调用提供的参数拿来和每个重载函数的参数进行比较，找出其中最合适的。  \n",
    "编译器无法根据函数返回类型来区分两个具有相同名称的函数。以下便是不正确的写法，会产生编译错误：\n",
    "```C++\n",
    "ostream& display_message(char ch);\n",
    "bool display_message(char ch);\n",
    "```\n",
    "我们用Cython来实现这个函数如下：\n",
    "\n",
    "由于Cython不支持直接编写重载函数，我们先建立chapter_2_extern.cpp和chapter_2_extern.h文件，编写如下代码：\n",
    "```C++\n",
    "#include \"chapter_2_extern.h\"\n",
    "\n",
    "int vector_sum(vector<int> &v)\n",
    "{\n",
    "    int tot = 0;\n",
    "    for (int i = 0; i < v.size(); ++i)\n",
    "    {\n",
    "        tot += v[i];\n",
    "    }\n",
    "    return tot;\n",
    "}\n",
    "\n",
    "float vector_sum(vector<float> &v)\n",
    "{\n",
    "    float tot = 0;\n",
    "    for (int i = 0; i < v.size(); ++i)\n",
    "    {\n",
    "        tot += v[i];\n",
    "    }\n",
    "\n",
    "    return tot;\n",
    "}\n",
    "```\n",
    "\n",
    "创建chapter_2.pxd文件(相当于C/C++头文件)，导入我们写好的C++代码 \n",
    "\n",
    "```Cython\n",
    "cdef extern from \"chapter_2_extern.h\":\n",
    "    int vector_sum(vector[int] &v)\n",
    "    float vector_sum(vector[float] &v)\n",
    "```"
   ]
  },
  {
   "cell_type": "code",
   "execution_count": 11,
   "metadata": {},
   "outputs": [
    {
     "name": "stdout",
     "output_type": "stream",
     "text": [
      "对元素为int类型的vector进行求和: 10\n",
      "对元素为float类型的vector进行求和: 6.0\n"
     ]
    }
   ],
   "source": [
    "%%cython --cplus --compile-args=-stdlib=libc++ --link-args=-stdlib=libc++\n",
    "from libcpp.vector cimport vector\n",
    "from chapter_2 cimport vector_sum\n",
    "\n",
    "\n",
    "cdef vector[int] ivec = [1, 2, 3, 4]\n",
    "print(\"对元素为int类型的vector进行求和:\", vector_sum(ivec))\n",
    "\n",
    "cdef vector[float] fvec = [1.0, 2.0, 3.0]\n",
    "print(\"对元素为float类型的vector进行求和:\", vector_sum(fvec))"
   ]
  },
  {
   "cell_type": "markdown",
   "metadata": {},
   "source": [
    "### 2.7 定义并使用模板函数\n",
    "2.6的例子中，每个函数体都颇为相像。唯一的差别就是参数的类型，一个是`vector<int>`型，一个是`vector<float>`型。需要一种机制，让我们得以将单一函数的内容与各种类型的vector绑定起来。所谓function template(函数模板)便提供了这样的机制。 \n",
    "function template以关键字template开场，其后紧接着以成对尖括号(<>)包围起来一个或多个标识符。这些标识符用以表示我们希望稍后决定的数据类型。用户每次利用这一模版产生函数，都必须提供确实的类型信息。这些标识符事实上扮演着占位符的角色，用来放置函数参数列表及函数体中的某些实际数据类型。例如：  \n",
    "```C++\n",
    "template <typename elemType>\n",
    "void display_message(const string &msg, const vector<elemType> &vec){\n",
    "    cout << msg;\n",
    "    for (int ix = 0; ix < vec.size(); ++ix){\n",
    "        elemType t = vec[ix];\n",
    "        cout << t << ' ';\n",
    "    }\n",
    "}\n",
    "```\n",
    "一般而言，如果函数具备多种实现方式，我们可将它重载，其每份实例提供的是相同的通用服务。如果我们希望让程序代码主体不变，仅仅改变其中用到的数据类型，可以通过function template达到目的。  \n",
    "Cython提供了融合类型(fused type)可以使用一个类型定义来引用多个类型。这使我们可以编写一个可以对多种类型的值进行操作的静态类型的cython函数。因此，融合类型允许泛型编程，并且类似于C++的template。"
   ]
  },
  {
   "cell_type": "code",
   "execution_count": 12,
   "metadata": {},
   "outputs": [
    {
     "name": "stdout",
     "output_type": "stream",
     "text": [
      "x + y 等于 3!\n",
      "a + b 等于 7.0!\n"
     ]
    }
   ],
   "source": [
    "%%cython --cplus --compile-args=-stdlib=libc++ --link-args=-stdlib=libc++\n",
    "\n",
    "ctypedef fused int_or_float:\n",
    "    int\n",
    "    float\n",
    "\n",
    "cdef int_or_float my_sum(int_or_float x, int_or_float y):\n",
    "    return x + y\n",
    "\n",
    "cdef int x = 1\n",
    "cdef int y = 2\n",
    "print(f\"x + y 等于 {my_sum(x, y)}!\")\n",
    "\n",
    "cdef float a = 3.0\n",
    "cdef float b = 4.0\n",
    "print(f\"a + b 等于 {my_sum(a, b)}!\")"
   ]
  },
  {
   "cell_type": "markdown",
   "metadata": {},
   "source": [
    "虽然上面的例子可以运行，但是Cython还不支持`vector[int_or_float] &v`这种写法(不支持&符号)，所以还是需要extern C++来实现vector_sum的模板函数。\n",
    "```C++\n",
    "template <typename T>\n",
    "T template_vector_sum(vector<T> &v)\n",
    "{\n",
    "    T tot = 0;\n",
    "    for (int i = 0; i < v.size(); ++i)\n",
    "    {\n",
    "        tot += v[i];\n",
    "    }\n",
    "    return tot;\n",
    "}\n",
    "```\n",
    "\n",
    "然后用Cython脚本导入Cpp函数。\n",
    "```Cython\n",
    "cdef extern from \"chapter_2_extern.h\":\n",
    "    T template_vector_sum[T](vector[T] &v)\n",
    "```\n",
    "注意template_vector_sum后面也要写上`[T]`，否则Cython无法识别出T(被这里坑了好久T-T)。写测试脚本如下："
   ]
  },
  {
   "cell_type": "code",
   "execution_count": 13,
   "metadata": {},
   "outputs": [
    {
     "name": "stdout",
     "output_type": "stream",
     "text": [
      "对vector[int]求和结果为 6\n",
      "对vector[float]求和结果为 15.0\n",
      "对vector[double]求和结果为 24.0\n"
     ]
    }
   ],
   "source": [
    "%%cython --cplus --compile-args=-stdlib=libc++ --link-args=-stdlib=libc++\n",
    "from libcpp.vector cimport vector\n",
    "from chapter_2 cimport template_vector_sum\n",
    "\n",
    "cdef vector[int] ivec = [1, 2, 3]\n",
    "print(\"对vector[int]求和结果为\", template_vector_sum(ivec))\n",
    "\n",
    "cdef vector[float] fvec = [4.0, 5.0, 6.0]\n",
    "print(\"对vector[float]求和结果为\", template_vector_sum(fvec))\n",
    "\n",
    "cdef vector[double] dvec = [7.0, 8.0, 9.0]\n",
    "print(\"对vector[double]求和结果为\", template_vector_sum(dvec))"
   ]
  },
  {
   "cell_type": "markdown",
   "metadata": {},
   "source": [
    "### 2.8 函数指针带来更大的灵活性\n",
    "以2.3的冒泡排序为例，在循环体内部，要不停地执行`if asc`来判断该执行`vec[ix] > vec[jx]`还是`vec[ix] < vec[jx]`。这显然有些冗余，因为asc参数传进来的时候就不会再更改了。我们可以使用指针来达到这一目的，具体说是函数指针。  \n",
    "所谓函数指针，其形式相当复杂。它必须指明其所指函数的返回类型和参数列表类型。我们这个例子中可以定义一个cmp(compare)函数指针，用于指向比较两个值大小的函数，分别定义greater_than和less_than两个函数来实现升序排列和降序排列，代码如下：  \n",
    "注意：函数指针不能设置为函数的默认参数。"
   ]
  },
  {
   "cell_type": "code",
   "execution_count": 14,
   "metadata": {},
   "outputs": [
    {
     "name": "stdout",
     "output_type": "stream",
     "text": [
      "升序排列...\n",
      "排序前的vector: [8, 34, 3, 13, 1, 21, 5, 2]\n",
      "排序后的vector: [1, 2, 3, 5, 8, 13, 21, 34]\n",
      "\n",
      "降序排列...\n",
      "排序前的vector: [8, 34, 3, 13, 1, 21, 5, 2]\n",
      "排序后的vector: [34, 21, 13, 8, 5, 3, 2, 1]\n"
     ]
    }
   ],
   "source": [
    "%%cython --cplus --compile-args=-stdlib=libc++ --link-args=-stdlib=libc++\n",
    "from libcpp cimport bool\n",
    "from libcpp.vector cimport vector\n",
    "\n",
    "\n",
    "cdef inline void swap(int &val1, int &val2):\n",
    "    cdef:\n",
    "        int *p1 = &val1\n",
    "        int *p2 = &val2\n",
    "        int temp = p1[0]\n",
    "    p1[0] = p2[0]\n",
    "    p2[0] = temp\n",
    "    \n",
    "\n",
    "cdef inline bool greater_than(int val1, int val2):\n",
    "    return val1 > val2\n",
    "\n",
    "\n",
    "cdef inline bool less_than(int val1, int val2):\n",
    "    return val1 < val2\n",
    "\n",
    "\n",
    "cdef void bubble_sort(vector[int] &vec, bool (*cmp)(int, int)):\n",
    "    cdef:\n",
    "        int ix = 0\n",
    "        int jx = 0\n",
    "    for ix in range(vec.size()):\n",
    "        for jx in range(ix + 1, vec.size()):\n",
    "            if cmp(vec[ix], vec[jx]):\n",
    "                swap(vec[ix], vec[jx])\n",
    "\n",
    "# 测试 1\n",
    "print(\"升序排列...\")\n",
    "cdef vector[int] vec = [8, 34, 3, 13, 1, 21, 5, 2]\n",
    "print(f\"排序前的vector: {vec}\")\n",
    "bubble_sort(vec, greater_than)\n",
    "print(f\"排序后的vector: {vec}\")\n",
    "print()\n",
    "\n",
    "# 测试 2\n",
    "print(\"降序排列...\")\n",
    "vec = [8, 34, 3, 13, 1, 21, 5, 2]\n",
    "print(f\"排序前的vector: {vec}\")\n",
    "bubble_sort(vec, less_than)\n",
    "print(f\"排序后的vector: {vec}\")"
   ]
  },
  {
   "cell_type": "markdown",
   "metadata": {},
   "source": [
    "### 2.9 设定头文件\n",
    "Cython的.pxd文件类似C++的.h头文件，.pyx文件类似C++的.cpp文件。如果模块需要被Cython import就需要.pxd文件，如果需要被Python import则同时需要.pxd文件，.pyx文件以及被编译的.so文件。\n",
    "\n",
    "1. 函数的定义只能有一份，但可以有多份声明\n",
    "2. inline函数的定义和声明都要放在pxd文件中\n",
    "3. 普通函数只可以把声明放在pxd文件中\n",
    "\n",
    "```Cython\n",
    "cdef inline int fmax(int a, int b):\n",
    "    return a if a > b else b\n",
    "```"
   ]
  },
  {
   "cell_type": "code",
   "execution_count": 15,
   "metadata": {},
   "outputs": [
    {
     "name": "stdout",
     "output_type": "stream",
     "text": [
      "3\n"
     ]
    }
   ],
   "source": [
    "%%cython --cplus --compile-args=-stdlib=libc++ --link-args=-stdlib=libc++\n",
    "from chapter_2 cimport fmax\n",
    "\n",
    "print(fmax(3, 2))"
   ]
  },
  {
   "cell_type": "code",
   "execution_count": null,
   "metadata": {},
   "outputs": [],
   "source": []
  }
 ],
 "metadata": {
  "kernelspec": {
   "display_name": "Python 3",
   "language": "python",
   "name": "python3"
  },
  "language_info": {
   "codemirror_mode": {
    "name": "ipython",
    "version": 3
   },
   "file_extension": ".py",
   "mimetype": "text/x-python",
   "name": "python",
   "nbconvert_exporter": "python",
   "pygments_lexer": "ipython3",
   "version": "3.6.10"
  }
 },
 "nbformat": 4,
 "nbformat_minor": 4
}
