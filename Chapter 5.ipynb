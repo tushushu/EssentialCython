{
 "cells": [
  {
   "cell_type": "code",
   "execution_count": 1,
   "metadata": {},
   "outputs": [],
   "source": [
    "%load_ext Cython"
   ]
  },
  {
   "cell_type": "markdown",
   "metadata": {},
   "source": [
    "子类会自动调用父类的`__cinit__`方法，注意需要给`__cinit__`方法加上`*args, **kwargs`参数，否则当子类的`__cinit__`方法的形参跟父类不一致时，自动调用父类的`__cinit__`方法会报错。"
   ]
  },
  {
   "cell_type": "code",
   "execution_count": 2,
   "metadata": {},
   "outputs": [
    {
     "name": "stdout",
     "output_type": "stream",
     "text": [
      "Calling Person's constructor...\n",
      "I am a Person!\n",
      "My age is 31!\n",
      "My gender is b'F'!\n",
      "\n",
      "Calling Person's constructor...\n",
      "Calling Student's constructor...\n",
      "I am a Student!\n",
      "My age is 11!\n",
      "My gender is b'M'!\n",
      "My school is b'MIT'\n",
      "\n",
      "Calling Person's constructor...\n",
      "Calling Student's constructor...\n",
      "Calling GoodStudent's constructor...\n",
      "I am a GoodStudent!\n",
      "My age is 16!\n",
      "My gender is b'F'!\n",
      "My school is b'SD'\n",
      "I ranked number 1 in the final exam!\n",
      "\n"
     ]
    }
   ],
   "source": [
    "%%cython --cplus --compile-args=-stdlib=libc++ --link-args=-stdlib=libc++\n",
    "from libcpp.string cimport string\n",
    "\n",
    "cdef class Person:\n",
    "    cdef int age\n",
    "    cdef string gender\n",
    "    \n",
    "    def __cinit__(self, int age, string gender, *args, **kwargs):\n",
    "        print(\"Calling Person's constructor...\")\n",
    "        self.age = age\n",
    "        self.gender = gender\n",
    "    \n",
    "    def _show(self):\n",
    "        print(f\"I am a {self.__class__.__name__}!\")\n",
    "        print(f\"My age is {self.age}!\")\n",
    "        print(f\"My gender is {self.gender}!\")\n",
    "    \n",
    "    def show(self):\n",
    "        self._show()\n",
    "        print()\n",
    "\n",
    "\n",
    "cdef class Student(Person):\n",
    "    cdef string school\n",
    "\n",
    "    def __cinit__(self, int age, string gender, string school, *args, **kwargs):\n",
    "        print(\"Calling Student's constructor...\")\n",
    "        self.school = school\n",
    "\n",
    "    def _show(self):\n",
    "        super()._show()\n",
    "        print(f\"My school is {self.school}\")\n",
    "\n",
    "\n",
    "cdef class GoodStudent(Student):\n",
    "    cdef int rank\n",
    "    \n",
    "    def __cinit__(self, int age, string gender, string school, int rank, *args, **kwargs):\n",
    "        self.rank = rank\n",
    "        print(\"Calling GoodStudent's constructor...\")\n",
    "    \n",
    "    def _show(self):\n",
    "        super()._show()\n",
    "        print(f\"I ranked number {self.rank} in the final exam!\")\n",
    "        \n",
    "cdef Person p = Person(31, b\"F\")\n",
    "p.show()\n",
    "\n",
    "cdef Student s = Student(11, b\"M\", b\"MIT\")\n",
    "s.show()\n",
    "\n",
    "cdef GoodStudent g = GoodStudent(16, b\"F\", b\"SD\", 1)\n",
    "g.show()"
   ]
  },
  {
   "cell_type": "code",
   "execution_count": null,
   "metadata": {},
   "outputs": [],
   "source": []
  },
  {
   "cell_type": "code",
   "execution_count": null,
   "metadata": {},
   "outputs": [],
   "source": []
  }
 ],
 "metadata": {
  "kernelspec": {
   "display_name": "Python 3",
   "language": "python",
   "name": "python3"
  },
  "language_info": {
   "codemirror_mode": {
    "name": "ipython",
    "version": 3
   },
   "file_extension": ".py",
   "mimetype": "text/x-python",
   "name": "python",
   "nbconvert_exporter": "python",
   "pygments_lexer": "ipython3",
   "version": "3.6.10"
  }
 },
 "nbformat": 4,
 "nbformat_minor": 4
}
